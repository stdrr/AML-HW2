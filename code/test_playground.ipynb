{
 "cells": [
  {
   "cell_type": "code",
   "execution_count": 1,
   "metadata": {},
   "outputs": [],
   "source": [
    "import torch\n",
    "import torch.nn as nn\n",
    "import torchvision\n",
    "import torchvision.transforms as transforms\n",
    "import numpy as np\n",
    "\n",
    "import matplotlib.pyplot as plt\n"
   ]
  },
  {
   "cell_type": "markdown",
   "metadata": {},
   "source": [
    "Professor's utility functions"
   ]
  },
  {
   "cell_type": "code",
   "execution_count": 2,
   "metadata": {},
   "outputs": [],
   "source": [
    "def weights_init(m):\n",
    "    if type(m) == nn.Linear:\n",
    "        m.weight.data.normal_(0.0, 1e-3)\n",
    "        m.bias.data.fill_(0.)\n",
    "\n",
    "def update_lr(optimizer, lr):\n",
    "    for param_group in optimizer.param_groups:\n",
    "        param_group['lr'] = lr"
   ]
  },
  {
   "cell_type": "markdown",
   "metadata": {},
   "source": [
    "Default configuration"
   ]
  },
  {
   "cell_type": "code",
   "execution_count": 3,
   "metadata": {},
   "outputs": [
    {
     "name": "stderr",
     "output_type": "stream",
     "text": [
      "/home/stefano/Documents/University/Master/Second_year/AML/.venv/lib/python3.9/site-packages/torch/cuda/__init__.py:52: UserWarning: CUDA initialization: CUDA unknown error - this may be due to an incorrectly set up environment, e.g. changing env variable CUDA_VISIBLE_DEVICES after program start. Setting the available devices to be zero. (Triggered internally at  ../c10/cuda/CUDAFunctions.cpp:115.)\n",
      "  return torch._C._cuda_getDeviceCount() > 0\n"
     ]
    },
    {
     "name": "stdout",
     "output_type": "stream",
     "text": [
      "Using device: cpu\n",
      "[128, 512, 512, 512, 512]\n",
      "Files already downloaded and verified\n"
     ]
    }
   ],
   "source": [
    "#--------------------------------\n",
    "# Device configuration\n",
    "#--------------------------------\n",
    "device = torch.device('cuda' if torch.cuda.is_available() else 'cpu')\n",
    "print('Using device: %s'%device)\n",
    "\n",
    "#--------------------------------\n",
    "# Hyper-parameters\n",
    "#--------------------------------\n",
    "input_size = 3\n",
    "num_classes = 10\n",
    "hidden_size = [128, 512, 512, 512, 512]\n",
    "num_epochs = 20\n",
    "batch_size = 200\n",
    "learning_rate = 2e-3\n",
    "learning_rate_decay = 0.95\n",
    "reg=0.001\n",
    "num_training= 49000\n",
    "num_validation =1000\n",
    "norm_layer = None #norm_layer = 'BN'\n",
    "print(hidden_size)\n",
    "\n",
    "\n",
    "\n",
    "#-------------------------------------------------\n",
    "# Load the CIFAR-10 dataset\n",
    "#-------------------------------------------------\n",
    "#################################################################################\n",
    "# TODO: Q3.a Choose the right data augmentation transforms with the right       #\n",
    "# hyper-parameters and put them in the data_aug_transforms variable             #\n",
    "#################################################################################\n",
    "data_aug_transforms = []\n",
    "# *****START OF YOUR CODE (DO NOT DELETE/MODIFY THIS LINE)*****\n",
    "\n",
    "\n",
    "\n",
    "# *****END OF YOUR CODE (DO NOT DELETE/MODIFY THIS LINE)*****\n",
    "norm_transform = transforms.Compose(data_aug_transforms+[transforms.ToTensor(),\n",
    "                                     transforms.Normalize((0.5, 0.5, 0.5), (0.5, 0.5, 0.5))\n",
    "                                     ])\n",
    "test_transform = transforms.Compose([transforms.ToTensor(),\n",
    "                                     transforms.Normalize((0.5, 0.5, 0.5), (0.5, 0.5, 0.5))\n",
    "                                     ])\n",
    "cifar_dataset = torchvision.datasets.CIFAR10(root='../datasets/',\n",
    "                                           train=True,\n",
    "                                           transform=norm_transform,\n",
    "                                           download=True)\n",
    "\n",
    "test_dataset = torchvision.datasets.CIFAR10(root='../datasets/',\n",
    "                                          train=False,\n",
    "                                          transform=test_transform\n",
    "                                          )\n",
    "\n",
    "#-------------------------------------------------\n",
    "# Prepare the training and validation splits\n",
    "#-------------------------------------------------\n",
    "mask = list(range(num_training))\n",
    "train_dataset = torch.utils.data.Subset(cifar_dataset, mask)\n",
    "mask = list(range(num_training, num_training + num_validation))\n",
    "val_dataset = torch.utils.data.Subset(cifar_dataset, mask)\n",
    "\n",
    "#-------------------------------------------------\n",
    "# Data loader\n",
    "#-------------------------------------------------\n",
    "train_loader = torch.utils.data.DataLoader(dataset=train_dataset,\n",
    "                                           batch_size=batch_size,\n",
    "                                           shuffle=True)\n",
    "\n",
    "val_loader = torch.utils.data.DataLoader(dataset=val_dataset,\n",
    "                                           batch_size=batch_size,\n",
    "                                           shuffle=False)\n",
    "\n",
    "test_loader = torch.utils.data.DataLoader(dataset=test_dataset,\n",
    "                                          batch_size=batch_size,\n",
    "                                          shuffle=False)"
   ]
  },
  {
   "cell_type": "markdown",
   "metadata": {},
   "source": [
    "Model definition"
   ]
  },
  {
   "cell_type": "code",
   "execution_count": 4,
   "metadata": {},
   "outputs": [],
   "source": [
    "#-------------------------------------------------\n",
    "# Convolutional neural network (Q1.a and Q2.a)\n",
    "# Set norm_layer for different networks whether using batch normalization\n",
    "#-------------------------------------------------\n",
    "class ConvNet(nn.Module):\n",
    "    def __init__(self, input_size, hidden_layers, num_classes, norm_layer=None):\n",
    "        super(ConvNet, self).__init__()\n",
    "        #################################################################################\n",
    "        # TODO: Initialize the modules required to implement the convolutional layer    #\n",
    "        # described in the exercise.                                                    #\n",
    "        # For Q1.a make use of conv2d and relu layers from the torch.nn module.         #\n",
    "        # For Q2.a make use of BatchNorm2d layer from the torch.nn module.              #\n",
    "        # For Q3.b Use Dropout layer from the torch.nn module.                          #\n",
    "        #################################################################################\n",
    "        layers = []\n",
    "        # *****START OF YOUR CODE (DO NOT DELETE/MODIFY THIS LINE)*****\n",
    "\n",
    "        # Define the hyperparameters of the Convolutional layers \n",
    "        conv_ker_sz = (3,3) # equivalent to conv_ker_sz = 3\n",
    "        padding = 'same'\n",
    "        conv_stride = 1\n",
    "\n",
    "        # Define the hyperparameters of the MaxPooling layers\n",
    "        max_ker_sz = (2,2) # equivalent to max_ker_sz = 2\n",
    "        max_stride = 2\n",
    "\n",
    "        build_conv_block = lambda in_ch, out_ch: [\n",
    "            nn.Conv2d(in_channels=in_ch, \n",
    "                      out_channels=out_ch, \n",
    "                      kernel_size=conv_ker_sz, padding=padding, stride=conv_stride),\n",
    "            nn.MaxPool2d(kernel_size=max_ker_sz, stride=max_stride),\n",
    "            nn.ReLU()\n",
    "        ]\n",
    "\n",
    "        prev_size = input_size\n",
    "\n",
    "        for h_size in hidden_layers:\n",
    "            layers += build_conv_block(in_ch=prev_size, out_ch=h_size)\n",
    "            prev_size = h_size\n",
    "\n",
    "        layers += [nn.Flatten(), \n",
    "                   nn.Linear(in_features=prev_size, out_features=num_classes)]\n",
    "\n",
    "        self.layers = nn.ModuleList(layers)\n",
    "        # self.layers = nn.Sequential(*layers)\n",
    "\n",
    "        # *****END OF YOUR CODE (DO NOT DELETE/MODIFY THIS LINE)*****\n",
    "\n",
    "    def forward(self, x):\n",
    "        #################################################################################\n",
    "        # TODO: Implement the forward pass computations                                 #\n",
    "        #################################################################################\n",
    "        # *****START OF YOUR CODE (DO NOT DELETE/MODIFY THIS LINE)*****\n",
    "        # out = self.layers(x)\n",
    "        out = x\n",
    "\n",
    "        for layer in self.layers:\n",
    "            out = layer(out)\n",
    "\n",
    "        # *****END OF YOUR CODE (DO NOT DELETE/MODIFY THIS LINE)*****\n",
    "        return out"
   ]
  },
  {
   "cell_type": "markdown",
   "metadata": {},
   "source": [
    "Complete the functions"
   ]
  },
  {
   "cell_type": "code",
   "execution_count": 5,
   "metadata": {},
   "outputs": [],
   "source": [
    "#-------------------------------------------------\n",
    "# Calculate the model size (Q1.b)\n",
    "# if disp is true, print the model parameters, otherwise, only return the number of parameters.\n",
    "#-------------------------------------------------\n",
    "def PrintModelSize(model, disp=True):\n",
    "    #################################################################################\n",
    "    # TODO: Implement the function to count the number of trainable parameters in   #\n",
    "    # the input model. This useful to track the capacity of the model you are       #\n",
    "    # training                                                                      #\n",
    "    #################################################################################\n",
    "    # *****START OF YOUR CODE (DO NOT DELETE/MODIFY THIS LINE)*****\n",
    "    \n",
    "    model_sz = sum( p.numel() for p in model.parameters() if p.requires_grad ) \n",
    "\n",
    "    if disp:\n",
    "        print(model_sz)\n",
    "        return\n",
    "\n",
    "    # *****END OF YOUR CODE (DO NOT DELETE/MODIFY THIS LINE)*****\n",
    "    return model_sz\n",
    "\n",
    "\n",
    "\n",
    "#-------------------------------------------------\n",
    "# Calculate the model size (Q1.c)\n",
    "# visualize the convolution filters of the first convolution layer of the input model\n",
    "#-------------------------------------------------\n",
    "def VisualizeFilter(model):\n",
    "    #################################################################################\n",
    "    # TODO: Implement the functiont to visualize the weights in the first conv layer#\n",
    "    # in the model. Visualize them as a single image of stacked filters.            #\n",
    "    # You can use matlplotlib.imshow to visualize an image in python                #\n",
    "    #################################################################################\n",
    "    # *****START OF YOUR CODE (DO NOT DELETE/MODIFY THIS LINE)*****\n",
    "\n",
    "    # Take the filters of the first convolutional layer\n",
    "    weights = model.layers[0].weight.detach().numpy() if device == 'cpu' else model.layers[0].weight.detach().cpu().numpy()\n",
    "    _, W, H, C = weights.shape\n",
    "\n",
    "    # Define a lambda function to convert the values of the filters into RGB space\n",
    "    to_rgb = lambda X, low, high: (255 * (X - low) / (high - low)).astype(np.int32)\n",
    "\n",
    "    # Define the image grid\n",
    "    nrows, ncols = 8, 16\n",
    "    padding = 1 # padding between one image and the next\n",
    "    grid_shape = (nrows*(W+padding), ncols*(H+padding), C)\n",
    "    img_grid = np.zeros(shape=grid_shape, dtype=np.int32)\n",
    "\n",
    "    for i in range(nrows): # for each row of the grid\n",
    "\n",
    "        for j in range(ncols): # for each column of the grid\n",
    "            \n",
    "            img_idx = i*j + j # compute the image index in [0, 127]\n",
    "\n",
    "            for ch_idx in range(C): # for each channel of the image\n",
    "\n",
    "                # Take the minumum and maximum values of the pixels of an image\n",
    "                min_val = np.min(weights[img_idx, :, :, ch_idx])\n",
    "                max_val = np.max(weights[img_idx, :, :, ch_idx])\n",
    "                \n",
    "                # Copy the pixel RGB values into the image grid\n",
    "                top = i*(H+padding) \n",
    "                left = j*(W+padding)\n",
    "                img_grid[top:top+H, left:left+W, ch_idx] = to_rgb(weights[img_idx, :, :, ch_idx], min_val, max_val)\n",
    "\n",
    "    plt.figure(num=1, figsize=(16, 8))\n",
    "    plt.title('Filters of the first Convolutional Layer')\n",
    "    plt.imshow(img_grid)\n",
    "\n",
    "    # *****END OF YOUR CODE (DO NOT DELETE/MODIFY THIS LINE)*****\n"
   ]
  },
  {
   "cell_type": "markdown",
   "metadata": {},
   "source": [
    "### Q1.a"
   ]
  },
  {
   "cell_type": "code",
   "execution_count": 6,
   "metadata": {},
   "outputs": [
    {
     "name": "stdout",
     "output_type": "stream",
     "text": [
      "ConvNet(\n",
      "  (layers): ModuleList(\n",
      "    (0): Conv2d(3, 128, kernel_size=(3, 3), stride=(1, 1), padding=same)\n",
      "    (1): MaxPool2d(kernel_size=(2, 2), stride=2, padding=0, dilation=1, ceil_mode=False)\n",
      "    (2): ReLU()\n",
      "    (3): Conv2d(128, 512, kernel_size=(3, 3), stride=(1, 1), padding=same)\n",
      "    (4): MaxPool2d(kernel_size=(2, 2), stride=2, padding=0, dilation=1, ceil_mode=False)\n",
      "    (5): ReLU()\n",
      "    (6): Conv2d(512, 512, kernel_size=(3, 3), stride=(1, 1), padding=same)\n",
      "    (7): MaxPool2d(kernel_size=(2, 2), stride=2, padding=0, dilation=1, ceil_mode=False)\n",
      "    (8): ReLU()\n",
      "    (9): Conv2d(512, 512, kernel_size=(3, 3), stride=(1, 1), padding=same)\n",
      "    (10): MaxPool2d(kernel_size=(2, 2), stride=2, padding=0, dilation=1, ceil_mode=False)\n",
      "    (11): ReLU()\n",
      "    (12): Conv2d(512, 512, kernel_size=(3, 3), stride=(1, 1), padding=same)\n",
      "    (13): MaxPool2d(kernel_size=(2, 2), stride=2, padding=0, dilation=1, ceil_mode=False)\n",
      "    (14): ReLU()\n",
      "    (15): Flatten(start_dim=1, end_dim=-1)\n",
      "    (16): Linear(in_features=512, out_features=10, bias=True)\n",
      "  )\n",
      ")\n"
     ]
    }
   ],
   "source": [
    "#======================================================================================\n",
    "# Q1.a: Implementing convolutional neural net in PyTorch\n",
    "#======================================================================================\n",
    "# In this question we will implement a convolutional neural networks using the PyTorch\n",
    "# library.  Please complete the code for the ConvNet class evaluating the model\n",
    "#--------------------------------------------------------------------------------------\n",
    "model = ConvNet(input_size, hidden_size, num_classes, norm_layer=norm_layer).to(device)\n",
    "# Q2.a - Initialize the model with correct batch norm layer\n",
    "\n",
    "model.apply(weights_init)\n",
    "# Print the model\n",
    "print(model)"
   ]
  },
  {
   "cell_type": "markdown",
   "metadata": {},
   "source": [
    "### Q1.b"
   ]
  },
  {
   "cell_type": "code",
   "execution_count": 7,
   "metadata": {},
   "outputs": [
    {
     "name": "stdout",
     "output_type": "stream",
     "text": [
      "7678474\n"
     ]
    }
   ],
   "source": [
    "# Print model size\n",
    "#======================================================================================\n",
    "# Q1.b: Implementing the function to count the number of trainable parameters in the model\n",
    "#======================================================================================\n",
    "PrintModelSize(model, disp=True)"
   ]
  },
  {
   "cell_type": "markdown",
   "metadata": {},
   "source": [
    "### Q1.c"
   ]
  },
  {
   "cell_type": "code",
   "execution_count": 8,
   "metadata": {},
   "outputs": [],
   "source": [
    "nrows = 16\n",
    "ncols = 8\n",
    "weights = model.layers[0].weight.detach().cpu().numpy()"
   ]
  },
  {
   "cell_type": "code",
   "execution_count": 9,
   "metadata": {},
   "outputs": [
    {
     "data": {
      "text/plain": [
       "(128, 3, 3, 3)"
      ]
     },
     "execution_count": 9,
     "metadata": {},
     "output_type": "execute_result"
    }
   ],
   "source": [
    "weights.shape"
   ]
  },
  {
   "cell_type": "code",
   "execution_count": 10,
   "metadata": {},
   "outputs": [
    {
     "data": {
      "image/png": "[encoded data removed]",
      "text/plain": [
       "<Figure size 1152x576 with 1 Axes>"
      ]
     },
     "metadata": {
      "needs_background": "light"
     },
     "output_type": "display_data"
    }
   ],
   "source": [
    "\n",
    "#======================================================================================\n",
    "# Q1.c: Implementing the function to visualize the filters in the first conv layers.\n",
    "# Visualize the filters before training\n",
    "#======================================================================================\n",
    "VisualizeFilter(model)"
   ]
  },
  {
   "cell_type": "code",
   "execution_count": null,
   "metadata": {},
   "outputs": [],
   "source": [
    "# Loss and optimizer\n",
    "criterion = nn.CrossEntropyLoss()\n",
    "optimizer = torch.optim.Adam(model.parameters(), lr=learning_rate, weight_decay=reg)\n",
    "\n",
    "# Train the model\n",
    "lr = learning_rate\n",
    "total_step = len(train_loader)\n",
    "loss_train = []\n",
    "loss_val = []\n",
    "best_accuracy = None\n",
    "accuracy_val = []\n",
    "best_model = type(model)(input_size, hidden_size, num_classes, norm_layer=norm_layer) # get a new instance\n",
    "#best_model = ConvNet(input_size, hidden_size, num_classes, norm_layer=norm_layer)\n",
    "for epoch in range(num_epochs):\n",
    "\n",
    "    model.train()\n",
    "\n",
    "    loss_iter = 0\n",
    "    for i, (images, labels) in enumerate(train_loader):\n",
    "        # Move tensors to the configured device\n",
    "        images = images.to(device)\n",
    "        labels = labels.to(device)\n",
    "\n",
    "        # Forward pass\n",
    "        outputs = model(images)\n",
    "        loss = criterion(outputs, labels)\n",
    "\n",
    "        # Backward and optimize\n",
    "        optimizer.zero_grad()\n",
    "        loss.backward()\n",
    "        optimizer.step()\n",
    "\n",
    "        loss_iter += loss.item()\n",
    "        \n",
    "        if (i+1) % 100 == 0:\n",
    "            print ('Epoch [{}/{}], Step [{}/{}], Loss: {:.4f}'\n",
    "                   .format(epoch+1, num_epochs, i+1, total_step, loss.item()))\n",
    "            \n",
    "    loss_train.append(loss_iter/(len(train_loader)*batch_size))\n",
    "\n",
    "    \n",
    "    # Code to update the lr\n",
    "    lr *= learning_rate_decay\n",
    "    update_lr(optimizer, lr)\n",
    "    \n",
    "        \n",
    "    model.eval()\n",
    "    with torch.no_grad():\n",
    "        correct = 0\n",
    "        total = 0\n",
    "        loss_iter = 0\n",
    "        for images, labels in val_loader:\n",
    "            images = images.to(device)\n",
    "            labels = labels.to(device)\n",
    "            \n",
    "            outputs = model(images)\n",
    "            _, predicted = torch.max(outputs.data, 1)\n",
    "            \n",
    "            total += labels.size(0)\n",
    "            correct += (predicted == labels).sum().item()\n",
    "            \n",
    "            loss = criterion(outputs, labels)\n",
    "            loss_iter += loss.item()\n",
    "        \n",
    "        loss_val.append(loss_iter/(len(val_loader)*batch_size))\n",
    "\n",
    "        accuracy = 100 * correct / total\n",
    "        accuracy_val.append(accuracy)\n",
    "        print('Validation accuracy is: {} %'.format(accuracy))\n",
    "        #################################################################################\n",
    "        # TODO: Q2.b Implement the early stopping mechanism to save the model which has #\n",
    "        # the model with the best validation accuracy so-far (use best_model).          #\n",
    "        #################################################################################\n",
    "\n",
    "        # *****START OF YOUR CODE (DO NOT DELETE/MODIFY THIS LINE)*****\n",
    "\n",
    "        \n",
    "\n",
    "        # *****END OF YOUR CODE (DO NOT DELETE/MODIFY THIS LINE)*****\n",
    "\n",
    "    \n",
    "\n",
    "# Test the model\n",
    "# In test phase, we don't need to compute gradients (for memory efficiency)\n",
    "model.eval()\n",
    "\n",
    "\n",
    "\n",
    "plt.figure(2)\n",
    "plt.plot(loss_train, 'r', label='Train loss')\n",
    "plt.plot(loss_val, 'g', label='Val loss')\n",
    "plt.legend()\n",
    "plt.show()\n",
    "\n",
    "plt.figure(3)\n",
    "plt.plot(accuracy_val, 'r', label='Val accuracy')\n",
    "plt.legend()\n",
    "plt.show()\n",
    "\n",
    "\n",
    "\n",
    "#################################################################################\n",
    "# TODO: Q2.b Implement the early stopping mechanism to load the weights from the#\n",
    "# best model so far and perform testing with this model.                        #\n",
    "#################################################################################\n",
    "# *****START OF YOUR CODE (DO NOT DELETE/MODIFY THIS LINE)*****\n",
    "\n",
    "\n",
    "\n",
    "# *****END OF YOUR CODE (DO NOT DELETE/MODIFY THIS LINE)*****\n",
    "\n",
    "#Compute accuracy on the test set\n",
    "with torch.no_grad():\n",
    "    correct = 0\n",
    "    total = 0\n",
    "    for images, labels in test_loader:\n",
    "        images = images.to(device)\n",
    "        labels = labels.to(device)\n",
    "        outputs = model(images)\n",
    "        _, predicted = torch.max(outputs.data, 1)\n",
    "        total += labels.size(0)\n",
    "        correct += (predicted == labels).sum().item()\n",
    "        if total == 1000:\n",
    "            break\n",
    "\n",
    "    print('Accuracy of the network on the {} test images: {} %'.format(total, 100 * correct / total))\n",
    "\n",
    "\n",
    "\n",
    "# Q1.c: Implementing the function to visualize the filters in the first conv layers.\n",
    "# Visualize the filters before training\n",
    "VisualizeFilter(model)\n",
    "\n",
    "\n",
    "\n",
    "# Save the model checkpoint\n",
    "#torch.save(model.state_dict(), 'model.ckpt')"
   ]
  }
 ],
 "metadata": {
  "interpreter": {
   "hash": "8d71f58446f5be8e830a7d5d91d25d6c937b8d849070c5142221625ba59d54cd"
  },
  "kernelspec": {
   "display_name": "Python 3.9.7 64-bit ('.venv': venv)",
   "name": "python3"
  },
  "language_info": {
   "codemirror_mode": {
    "name": "ipython",
    "version": 3
   },
   "file_extension": ".py",
   "mimetype": "text/x-python",
   "name": "python",
   "nbconvert_exporter": "python",
   "pygments_lexer": "ipython3",
   "version": "3.9.7"
  },
  "orig_nbformat": 4
 },
 "nbformat": 4,
 "nbformat_minor": 2
}
